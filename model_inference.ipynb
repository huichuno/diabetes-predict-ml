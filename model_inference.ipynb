{
 "cells": [
  {
   "cell_type": "markdown",
   "id": "67b6a94e",
   "metadata": {},
   "source": [
    "## Diabetes Prediction Model Inference\n",
    "\n",
    "### Prerequisites\n",
    "* Run *diabetes.ipynb* notebook to generate model files "
   ]
  },
  {
   "cell_type": "code",
   "execution_count": null,
   "id": "b0f3aa02",
   "metadata": {},
   "outputs": [],
   "source": [
    "# Utility function for making predictions without warnings\n",
    "def predict_diabetes(gender, age, hypertension, heart_disease, smoking_history, bmi, hba1c_level, blood_glucose_level, model_type='rf'):\n",
    "    \"\"\"\n",
    "    Make diabetes predictions using the trained models\n",
    "    \n",
    "    Parameters:\n",
    "    - gender: 0 = Female, 1 = Male\n",
    "    - age: Age in years\n",
    "    - hypertension: 0 = No, 1 = Yes\n",
    "    - heart_disease: 0 = No, 1 = Yes  \n",
    "    - smoking_history: 0-5 ['No Info', 'current', 'ever', 'former', 'never', 'not current']\n",
    "    - bmi: Body Mass Index\n",
    "    - hba1c_level: HbA1c level\n",
    "    - blood_glucose_level: Blood glucose level\n",
    "    - model_type: 'lr' for Logistic Regression, 'rf' for Random Forest\n",
    "    \n",
    "    Returns:\n",
    "    - prediction: 0 = No Diabetes, 1 = Diabetes\n",
    "    - probability: [prob_no_diabetes, prob_diabetes]\n",
    "    \"\"\"\n",
    "    import pandas as pd\n",
    "    import pickle\n",
    "    \n",
    "    # Feature names in the correct order\n",
    "    feature_names = ['gender', 'age', 'hypertension', 'heart_disease', 'smoking_history', 'bmi', 'HbA1c_level', 'blood_glucose_level']\n",
    "    \n",
    "    # Create DataFrame with proper feature names\n",
    "    patient_data = pd.DataFrame([[gender, age, hypertension, heart_disease, smoking_history, bmi, hba1c_level, blood_glucose_level]], \n",
    "                               columns=feature_names)\n",
    "    \n",
    "    # Choose model\n",
    "    if model_type == 'lr':\n",
    "        # Load Logistic Regression model\n",
    "        with open('diabetes_prediction_model_lr.bin', 'rb') as fp:\n",
    "            model = pickle.load(fp)\n",
    "        model_name = \"Logistic Regression\"\n",
    "    else:\n",
    "        # Load Random Forest model\n",
    "        with open('diabetes_prediction_model_rf.bin', 'rb') as fp:\n",
    "            model = pickle.load(fp)\n",
    "        model_name = \"Random Forest\"\n",
    "    \n",
    "    # Make prediction\n",
    "    prediction = model.predict(patient_data)[0]\n",
    "    probability = model.predict_proba(patient_data)[0]\n",
    "    \n",
    "    # Single line output\n",
    "    gender_str = \"Female\" if gender == 0 else \"Male\"\n",
    "    result_str = \"Diabetes\" if prediction == 1 else \"No Diabetes\"\n",
    "    print(f\"{model_name} | {gender_str}, Age:{age}, HTN:{hypertension}, HD:{heart_disease}, Smoke:{smoking_history}, BMI:{bmi}, HbA1c:{hba1c_level}, Glucose:{blood_glucose_level} → {result_str} (Confidence: {max(probability):.3f})\")\n",
    "    \n",
    "    return prediction, probability"
   ]
  },
  {
   "cell_type": "code",
   "execution_count": 8,
   "id": "7e56bea8",
   "metadata": {},
   "outputs": [
    {
     "name": "stdout",
     "output_type": "stream",
     "text": [
      "=== EXAMPLE PREDICTIONS ===\n",
      "\n",
      "1. High-risk patient:\n",
      "Random Forest | Female, Age:70, HTN:1, HD:1, Smoke:3, BMI:25.4, HbA1c:8.7, Glucose:140 → Diabetes (Confidence: 0.970)\n",
      "Logistic Regression | Female, Age:70, HTN:1, HD:1, Smoke:3, BMI:25.4, HbA1c:8.7, Glucose:140 → Diabetes (Confidence: 0.991)\n",
      "\n",
      "2. Low-risk patient:\n",
      "Random Forest | Male, Age:25, HTN:0, HD:0, Smoke:0, BMI:22.0, HbA1c:5.0, Glucose:85 → No Diabetes (Confidence: 1.000)\n",
      "Logistic Regression | Male, Age:25, HTN:0, HD:0, Smoke:0, BMI:22.0, HbA1c:5.0, Glucose:85 → No Diabetes (Confidence: 1.000)\n",
      "Logistic Regression | Male, Age:25, HTN:0, HD:0, Smoke:0, BMI:22.0, HbA1c:5.0, Glucose:85 → No Diabetes (Confidence: 1.000)\n"
     ]
    },
    {
     "data": {
      "text/plain": [
       "(np.int64(0), array([9.99934203e-01, 6.57970259e-05]))"
      ]
     },
     "execution_count": 8,
     "metadata": {},
     "output_type": "execute_result"
    }
   ],
   "source": [
    "# Example usage:\n",
    "print(\"=== EXAMPLE PREDICTIONS ===\")\n",
    "print(\"\\n1. High-risk patient:\")\n",
    "predict_diabetes(gender=0, age=70, hypertension=1, heart_disease=1, smoking_history=3, bmi=25.4, hba1c_level=8.7, blood_glucose_level=140, model_type='rf')\n",
    "predict_diabetes(gender=0, age=70, hypertension=1, heart_disease=1, smoking_history=3, bmi=25.4, hba1c_level=8.7, blood_glucose_level=140, model_type='lr')\n",
    "\n",
    "print(\"\\n2. Low-risk patient:\")\n",
    "predict_diabetes(gender=1, age=25, hypertension=0, heart_disease=0, smoking_history=0, bmi=22.0, hba1c_level=5.0, blood_glucose_level=85, model_type='rf')\n",
    "predict_diabetes(gender=1, age=25, hypertension=0, heart_disease=0, smoking_history=0, bmi=22.0, hba1c_level=5.0, blood_glucose_level=85, model_type='lr')"
   ]
  },
  {
   "cell_type": "code",
   "execution_count": null,
   "id": "bea4b70e",
   "metadata": {},
   "outputs": [],
   "source": []
  }
 ],
 "metadata": {
  "kernelspec": {
   "display_name": "diabetes-predict-ml",
   "language": "python",
   "name": "python3"
  },
  "language_info": {
   "codemirror_mode": {
    "name": "ipython",
    "version": 3
   },
   "file_extension": ".py",
   "mimetype": "text/x-python",
   "name": "python",
   "nbconvert_exporter": "python",
   "pygments_lexer": "ipython3",
   "version": "3.13.6"
  }
 },
 "nbformat": 4,
 "nbformat_minor": 5
}
